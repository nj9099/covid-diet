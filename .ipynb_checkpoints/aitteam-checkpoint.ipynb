{
 "cells": [
  {
   "cell_type": "markdown",
   "metadata": {
    "colab_type": "text",
    "id": "view-in-github"
   },
   "source": [
    "<a href=\"https://colab.research.google.com/github/noelgith/covid-diet/blob/main/aitteam.ipynb\" target=\"_parent\"><img src=\"https://colab.research.google.com/assets/colab-badge.svg\" alt=\"Open In Colab\"/></a>"
   ]
  },
  {
   "cell_type": "code",
   "execution_count": 1,
   "metadata": {
    "id": "yq3WM9B1KfTJ"
   },
   "outputs": [],
   "source": [
    "import pandas as pd\n",
    "from scipy import stats as st\n",
    "import seaborn as sns # For pairplots and heatmaps\n",
    "import matplotlib.pyplot as plt\n",
    "import altair as alt\n",
    "from vega_datasets import data"
   ]
  },
  {
   "cell_type": "code",
   "execution_count": 2,
   "metadata": {
    "id": "nCB03lKDKfTQ"
   },
   "outputs": [
    {
     "ename": "FileNotFoundError",
     "evalue": "[Errno 2] No such file or directory: '/content/Food_Supply_Quantity_kg_Data.csv'",
     "output_type": "error",
     "traceback": [
      "\u001b[1;31m---------------------------------------------------------------------------\u001b[0m",
      "\u001b[1;31mFileNotFoundError\u001b[0m                         Traceback (most recent call last)",
      "\u001b[1;32m<ipython-input-2-5b69f8b02388>\u001b[0m in \u001b[0;36m<module>\u001b[1;34m\u001b[0m\n\u001b[1;32m----> 1\u001b[1;33m \u001b[0mdf\u001b[0m \u001b[1;33m=\u001b[0m \u001b[0mpd\u001b[0m\u001b[1;33m.\u001b[0m\u001b[0mread_csv\u001b[0m\u001b[1;33m(\u001b[0m\u001b[1;34m'/content/Food_Supply_Quantity_kg_Data.csv'\u001b[0m\u001b[1;33m)\u001b[0m\u001b[1;33m\u001b[0m\u001b[1;33m\u001b[0m\u001b[0m\n\u001b[0m",
      "\u001b[1;32m~\\anaconda3\\lib\\site-packages\\pandas\\util\\_decorators.py\u001b[0m in \u001b[0;36mwrapper\u001b[1;34m(*args, **kwargs)\u001b[0m\n\u001b[0;32m    309\u001b[0m                     \u001b[0mstacklevel\u001b[0m\u001b[1;33m=\u001b[0m\u001b[0mstacklevel\u001b[0m\u001b[1;33m,\u001b[0m\u001b[1;33m\u001b[0m\u001b[1;33m\u001b[0m\u001b[0m\n\u001b[0;32m    310\u001b[0m                 )\n\u001b[1;32m--> 311\u001b[1;33m             \u001b[1;32mreturn\u001b[0m \u001b[0mfunc\u001b[0m\u001b[1;33m(\u001b[0m\u001b[1;33m*\u001b[0m\u001b[0margs\u001b[0m\u001b[1;33m,\u001b[0m \u001b[1;33m**\u001b[0m\u001b[0mkwargs\u001b[0m\u001b[1;33m)\u001b[0m\u001b[1;33m\u001b[0m\u001b[1;33m\u001b[0m\u001b[0m\n\u001b[0m\u001b[0;32m    312\u001b[0m \u001b[1;33m\u001b[0m\u001b[0m\n\u001b[0;32m    313\u001b[0m         \u001b[1;32mreturn\u001b[0m \u001b[0mwrapper\u001b[0m\u001b[1;33m\u001b[0m\u001b[1;33m\u001b[0m\u001b[0m\n",
      "\u001b[1;32m~\\anaconda3\\lib\\site-packages\\pandas\\io\\parsers\\readers.py\u001b[0m in \u001b[0;36mread_csv\u001b[1;34m(filepath_or_buffer, sep, delimiter, header, names, index_col, usecols, squeeze, prefix, mangle_dupe_cols, dtype, engine, converters, true_values, false_values, skipinitialspace, skiprows, skipfooter, nrows, na_values, keep_default_na, na_filter, verbose, skip_blank_lines, parse_dates, infer_datetime_format, keep_date_col, date_parser, dayfirst, cache_dates, iterator, chunksize, compression, thousands, decimal, lineterminator, quotechar, quoting, doublequote, escapechar, comment, encoding, encoding_errors, dialect, error_bad_lines, warn_bad_lines, on_bad_lines, delim_whitespace, low_memory, memory_map, float_precision, storage_options)\u001b[0m\n\u001b[0;32m    584\u001b[0m     \u001b[0mkwds\u001b[0m\u001b[1;33m.\u001b[0m\u001b[0mupdate\u001b[0m\u001b[1;33m(\u001b[0m\u001b[0mkwds_defaults\u001b[0m\u001b[1;33m)\u001b[0m\u001b[1;33m\u001b[0m\u001b[1;33m\u001b[0m\u001b[0m\n\u001b[0;32m    585\u001b[0m \u001b[1;33m\u001b[0m\u001b[0m\n\u001b[1;32m--> 586\u001b[1;33m     \u001b[1;32mreturn\u001b[0m \u001b[0m_read\u001b[0m\u001b[1;33m(\u001b[0m\u001b[0mfilepath_or_buffer\u001b[0m\u001b[1;33m,\u001b[0m \u001b[0mkwds\u001b[0m\u001b[1;33m)\u001b[0m\u001b[1;33m\u001b[0m\u001b[1;33m\u001b[0m\u001b[0m\n\u001b[0m\u001b[0;32m    587\u001b[0m \u001b[1;33m\u001b[0m\u001b[0m\n\u001b[0;32m    588\u001b[0m \u001b[1;33m\u001b[0m\u001b[0m\n",
      "\u001b[1;32m~\\anaconda3\\lib\\site-packages\\pandas\\io\\parsers\\readers.py\u001b[0m in \u001b[0;36m_read\u001b[1;34m(filepath_or_buffer, kwds)\u001b[0m\n\u001b[0;32m    480\u001b[0m \u001b[1;33m\u001b[0m\u001b[0m\n\u001b[0;32m    481\u001b[0m     \u001b[1;31m# Create the parser.\u001b[0m\u001b[1;33m\u001b[0m\u001b[1;33m\u001b[0m\u001b[1;33m\u001b[0m\u001b[0m\n\u001b[1;32m--> 482\u001b[1;33m     \u001b[0mparser\u001b[0m \u001b[1;33m=\u001b[0m \u001b[0mTextFileReader\u001b[0m\u001b[1;33m(\u001b[0m\u001b[0mfilepath_or_buffer\u001b[0m\u001b[1;33m,\u001b[0m \u001b[1;33m**\u001b[0m\u001b[0mkwds\u001b[0m\u001b[1;33m)\u001b[0m\u001b[1;33m\u001b[0m\u001b[1;33m\u001b[0m\u001b[0m\n\u001b[0m\u001b[0;32m    483\u001b[0m \u001b[1;33m\u001b[0m\u001b[0m\n\u001b[0;32m    484\u001b[0m     \u001b[1;32mif\u001b[0m \u001b[0mchunksize\u001b[0m \u001b[1;32mor\u001b[0m \u001b[0miterator\u001b[0m\u001b[1;33m:\u001b[0m\u001b[1;33m\u001b[0m\u001b[1;33m\u001b[0m\u001b[0m\n",
      "\u001b[1;32m~\\anaconda3\\lib\\site-packages\\pandas\\io\\parsers\\readers.py\u001b[0m in \u001b[0;36m__init__\u001b[1;34m(self, f, engine, **kwds)\u001b[0m\n\u001b[0;32m    809\u001b[0m             \u001b[0mself\u001b[0m\u001b[1;33m.\u001b[0m\u001b[0moptions\u001b[0m\u001b[1;33m[\u001b[0m\u001b[1;34m\"has_index_names\"\u001b[0m\u001b[1;33m]\u001b[0m \u001b[1;33m=\u001b[0m \u001b[0mkwds\u001b[0m\u001b[1;33m[\u001b[0m\u001b[1;34m\"has_index_names\"\u001b[0m\u001b[1;33m]\u001b[0m\u001b[1;33m\u001b[0m\u001b[1;33m\u001b[0m\u001b[0m\n\u001b[0;32m    810\u001b[0m \u001b[1;33m\u001b[0m\u001b[0m\n\u001b[1;32m--> 811\u001b[1;33m         \u001b[0mself\u001b[0m\u001b[1;33m.\u001b[0m\u001b[0m_engine\u001b[0m \u001b[1;33m=\u001b[0m \u001b[0mself\u001b[0m\u001b[1;33m.\u001b[0m\u001b[0m_make_engine\u001b[0m\u001b[1;33m(\u001b[0m\u001b[0mself\u001b[0m\u001b[1;33m.\u001b[0m\u001b[0mengine\u001b[0m\u001b[1;33m)\u001b[0m\u001b[1;33m\u001b[0m\u001b[1;33m\u001b[0m\u001b[0m\n\u001b[0m\u001b[0;32m    812\u001b[0m \u001b[1;33m\u001b[0m\u001b[0m\n\u001b[0;32m    813\u001b[0m     \u001b[1;32mdef\u001b[0m \u001b[0mclose\u001b[0m\u001b[1;33m(\u001b[0m\u001b[0mself\u001b[0m\u001b[1;33m)\u001b[0m\u001b[1;33m:\u001b[0m\u001b[1;33m\u001b[0m\u001b[1;33m\u001b[0m\u001b[0m\n",
      "\u001b[1;32m~\\anaconda3\\lib\\site-packages\\pandas\\io\\parsers\\readers.py\u001b[0m in \u001b[0;36m_make_engine\u001b[1;34m(self, engine)\u001b[0m\n\u001b[0;32m   1038\u001b[0m             )\n\u001b[0;32m   1039\u001b[0m         \u001b[1;31m# error: Too many arguments for \"ParserBase\"\u001b[0m\u001b[1;33m\u001b[0m\u001b[1;33m\u001b[0m\u001b[1;33m\u001b[0m\u001b[0m\n\u001b[1;32m-> 1040\u001b[1;33m         \u001b[1;32mreturn\u001b[0m \u001b[0mmapping\u001b[0m\u001b[1;33m[\u001b[0m\u001b[0mengine\u001b[0m\u001b[1;33m]\u001b[0m\u001b[1;33m(\u001b[0m\u001b[0mself\u001b[0m\u001b[1;33m.\u001b[0m\u001b[0mf\u001b[0m\u001b[1;33m,\u001b[0m \u001b[1;33m**\u001b[0m\u001b[0mself\u001b[0m\u001b[1;33m.\u001b[0m\u001b[0moptions\u001b[0m\u001b[1;33m)\u001b[0m  \u001b[1;31m# type: ignore[call-arg]\u001b[0m\u001b[1;33m\u001b[0m\u001b[1;33m\u001b[0m\u001b[0m\n\u001b[0m\u001b[0;32m   1041\u001b[0m \u001b[1;33m\u001b[0m\u001b[0m\n\u001b[0;32m   1042\u001b[0m     \u001b[1;32mdef\u001b[0m \u001b[0m_failover_to_python\u001b[0m\u001b[1;33m(\u001b[0m\u001b[0mself\u001b[0m\u001b[1;33m)\u001b[0m\u001b[1;33m:\u001b[0m\u001b[1;33m\u001b[0m\u001b[1;33m\u001b[0m\u001b[0m\n",
      "\u001b[1;32m~\\anaconda3\\lib\\site-packages\\pandas\\io\\parsers\\c_parser_wrapper.py\u001b[0m in \u001b[0;36m__init__\u001b[1;34m(self, src, **kwds)\u001b[0m\n\u001b[0;32m     49\u001b[0m \u001b[1;33m\u001b[0m\u001b[0m\n\u001b[0;32m     50\u001b[0m         \u001b[1;31m# open handles\u001b[0m\u001b[1;33m\u001b[0m\u001b[1;33m\u001b[0m\u001b[1;33m\u001b[0m\u001b[0m\n\u001b[1;32m---> 51\u001b[1;33m         \u001b[0mself\u001b[0m\u001b[1;33m.\u001b[0m\u001b[0m_open_handles\u001b[0m\u001b[1;33m(\u001b[0m\u001b[0msrc\u001b[0m\u001b[1;33m,\u001b[0m \u001b[0mkwds\u001b[0m\u001b[1;33m)\u001b[0m\u001b[1;33m\u001b[0m\u001b[1;33m\u001b[0m\u001b[0m\n\u001b[0m\u001b[0;32m     52\u001b[0m         \u001b[1;32massert\u001b[0m \u001b[0mself\u001b[0m\u001b[1;33m.\u001b[0m\u001b[0mhandles\u001b[0m \u001b[1;32mis\u001b[0m \u001b[1;32mnot\u001b[0m \u001b[1;32mNone\u001b[0m\u001b[1;33m\u001b[0m\u001b[1;33m\u001b[0m\u001b[0m\n\u001b[0;32m     53\u001b[0m \u001b[1;33m\u001b[0m\u001b[0m\n",
      "\u001b[1;32m~\\anaconda3\\lib\\site-packages\\pandas\\io\\parsers\\base_parser.py\u001b[0m in \u001b[0;36m_open_handles\u001b[1;34m(self, src, kwds)\u001b[0m\n\u001b[0;32m    220\u001b[0m         \u001b[0mLet\u001b[0m \u001b[0mthe\u001b[0m \u001b[0mreaders\u001b[0m \u001b[0mopen\u001b[0m \u001b[0mIOHandles\u001b[0m \u001b[0mafter\u001b[0m \u001b[0mthey\u001b[0m \u001b[0mare\u001b[0m \u001b[0mdone\u001b[0m \u001b[1;32mwith\u001b[0m \u001b[0mtheir\u001b[0m \u001b[0mpotential\u001b[0m \u001b[0mraises\u001b[0m\u001b[1;33m.\u001b[0m\u001b[1;33m\u001b[0m\u001b[1;33m\u001b[0m\u001b[0m\n\u001b[0;32m    221\u001b[0m         \"\"\"\n\u001b[1;32m--> 222\u001b[1;33m         self.handles = get_handle(\n\u001b[0m\u001b[0;32m    223\u001b[0m             \u001b[0msrc\u001b[0m\u001b[1;33m,\u001b[0m\u001b[1;33m\u001b[0m\u001b[1;33m\u001b[0m\u001b[0m\n\u001b[0;32m    224\u001b[0m             \u001b[1;34m\"r\"\u001b[0m\u001b[1;33m,\u001b[0m\u001b[1;33m\u001b[0m\u001b[1;33m\u001b[0m\u001b[0m\n",
      "\u001b[1;32m~\\anaconda3\\lib\\site-packages\\pandas\\io\\common.py\u001b[0m in \u001b[0;36mget_handle\u001b[1;34m(path_or_buf, mode, encoding, compression, memory_map, is_text, errors, storage_options)\u001b[0m\n\u001b[0;32m    700\u001b[0m         \u001b[1;32mif\u001b[0m \u001b[0mioargs\u001b[0m\u001b[1;33m.\u001b[0m\u001b[0mencoding\u001b[0m \u001b[1;32mand\u001b[0m \u001b[1;34m\"b\"\u001b[0m \u001b[1;32mnot\u001b[0m \u001b[1;32min\u001b[0m \u001b[0mioargs\u001b[0m\u001b[1;33m.\u001b[0m\u001b[0mmode\u001b[0m\u001b[1;33m:\u001b[0m\u001b[1;33m\u001b[0m\u001b[1;33m\u001b[0m\u001b[0m\n\u001b[0;32m    701\u001b[0m             \u001b[1;31m# Encoding\u001b[0m\u001b[1;33m\u001b[0m\u001b[1;33m\u001b[0m\u001b[1;33m\u001b[0m\u001b[0m\n\u001b[1;32m--> 702\u001b[1;33m             handle = open(\n\u001b[0m\u001b[0;32m    703\u001b[0m                 \u001b[0mhandle\u001b[0m\u001b[1;33m,\u001b[0m\u001b[1;33m\u001b[0m\u001b[1;33m\u001b[0m\u001b[0m\n\u001b[0;32m    704\u001b[0m                 \u001b[0mioargs\u001b[0m\u001b[1;33m.\u001b[0m\u001b[0mmode\u001b[0m\u001b[1;33m,\u001b[0m\u001b[1;33m\u001b[0m\u001b[1;33m\u001b[0m\u001b[0m\n",
      "\u001b[1;31mFileNotFoundError\u001b[0m: [Errno 2] No such file or directory: '/content/Food_Supply_Quantity_kg_Data.csv'"
     ]
    }
   ],
   "source": [
    "df = pd.read_csv('/content/Food_Supply_Quantity_kg_Data.csv')"
   ]
  },
  {
   "cell_type": "code",
   "execution_count": null,
   "metadata": {
    "id": "XHvndkj7KfTR"
   },
   "outputs": [],
   "source": [
    "df = df.dropna()"
   ]
  },
  {
   "cell_type": "code",
   "execution_count": null,
   "metadata": {
    "id": "kH5aXaxEKfTT"
   },
   "outputs": [],
   "source": [
    "obese = df['Obesity']"
   ]
  },
  {
   "cell_type": "code",
   "execution_count": null,
   "metadata": {
    "colab": {
     "base_uri": "https://localhost:8080/"
    },
    "id": "0D6v36XNHiF0",
    "outputId": "7ec23980-b6d0-470b-d56c-7cff1000c3c8"
   },
   "outputs": [],
   "source": [
    "under = df['Undernourished']\n",
    "print(under)"
   ]
  },
  {
   "cell_type": "code",
   "execution_count": null,
   "metadata": {
    "colab": {
     "base_uri": "https://localhost:8080/",
     "height": 368
    },
    "id": "tupvTMdKIHdv",
    "outputId": "55ea7974-9cdc-4f07-f52a-2222aebf9900"
   },
   "outputs": [],
   "source": [
    "alt.Chart(df).mark_bar().encode(\n",
    "    alt.X(\"Undernourished:Q\", bin=True),\n",
    "    y='count()',\n",
    ")"
   ]
  },
  {
   "cell_type": "markdown",
   "metadata": {
    "id": "i_cF3LbKImMp"
   },
   "source": [
    "*   Low undernourishment (0-10) is more prevalant among the nations.\n",
    "*   Approx. 45 nations suffer from mid undernourishment.\n",
    "*   Around 12 countries face extreme undernourishment.\n",
    "\n",
    "\n",
    "\n"
   ]
  },
  {
   "cell_type": "code",
   "execution_count": null,
   "metadata": {
    "colab": {
     "base_uri": "https://localhost:8080/",
     "height": 368
    },
    "id": "drIbR0NLTaNe",
    "outputId": "4840c2a3-e666-44f5-b64e-86e50e5bc9a6"
   },
   "outputs": [],
   "source": [
    "alt.Chart(df).mark_bar().encode(\n",
    "    alt.X(\"Obesity:Q\", bin=True),\n",
    "    y='count()',\n",
    ")"
   ]
  },
  {
   "cell_type": "code",
   "execution_count": null,
   "metadata": {
    "id": "rW1FmvjOKBAg"
   },
   "outputs": [],
   "source": [
    "odf['Obese'] = odf['Obese'].astype('object')\n",
    "odf['Recovered'] = odf['Recovered'].astype('object')\n",
    "odf['Deaths'] = odf['Deaths'].astype('object')\n",
    "odf['UnderNouurished'] = odf['UnderNouurished'].astype('object')\n",
    "odf['conf'] = odf['conf'].astype('object')"
   ]
  },
  {
   "cell_type": "code",
   "execution_count": null,
   "metadata": {
    "colab": {
     "base_uri": "https://localhost:8080/"
    },
    "id": "52efIcmbLeuE",
    "outputId": "15b2ea47-f95e-4f57-f395-833d8032d93e"
   },
   "outputs": [],
   "source": [
    "odf.dtypes"
   ]
  },
  {
   "cell_type": "code",
   "execution_count": null,
   "metadata": {
    "id": "BT429i_UJQNs"
   },
   "outputs": [],
   "source": [
    "low_nourish = odf[odf['UnderNouurished']<10]\n",
    "mid_nourish = odf[(odf['UnderNouurished']>=10) & (odf['UnderNouurished']<30)]\n",
    "high_nourish = odf[odf['UnderNouurished']>=30]"
   ]
  },
  {
   "cell_type": "code",
   "execution_count": null,
   "metadata": {
    "colab": {
     "base_uri": "https://localhost:8080/",
     "height": 424
    },
    "id": "_85CBOCaRHX6",
    "outputId": "f49ccf72-63f8-4d12-d3de-faf1ee8def3d"
   },
   "outputs": [],
   "source": [
    "low_nourish"
   ]
  },
  {
   "cell_type": "code",
   "execution_count": null,
   "metadata": {
    "colab": {
     "base_uri": "https://localhost:8080/"
    },
    "id": "67ekl3ilQH6_",
    "outputId": "ff56f9d8-c69a-4fb9-93f2-889b6f39fb00"
   },
   "outputs": [],
   "source": [
    "st.f_oneway(low_nourish['Recovered'],\n",
    "            mid_nourish['Recovered'],\n",
    "            high_nourish['Recovered'])"
   ]
  },
  {
   "cell_type": "code",
   "execution_count": null,
   "metadata": {
    "colab": {
     "base_uri": "https://localhost:8080/"
    },
    "id": "wzsEumnVR0ez",
    "outputId": "014b6324-9916-45ee-facc-950d20f4c264"
   },
   "outputs": [],
   "source": [
    "st.f_oneway(low_nourish['Deaths'],\n",
    "            mid_nourish['Deaths'],\n",
    "            high_nourish['Deaths'])"
   ]
  },
  {
   "cell_type": "code",
   "execution_count": null,
   "metadata": {
    "colab": {
     "base_uri": "https://localhost:8080/"
    },
    "id": "gUHYce4Ukkob",
    "outputId": "5866edd6-adba-458c-9510-2d0d32f1d6ae"
   },
   "outputs": [],
   "source": [
    "st.f_oneway(low_nourish['conf'],\n",
    "            mid_nourish['conf'],\n",
    "            high_nourish['conf'])"
   ]
  },
  {
   "cell_type": "code",
   "execution_count": null,
   "metadata": {
    "id": "7owX5CjYk-v5"
   },
   "outputs": [],
   "source": []
  },
  {
   "cell_type": "code",
   "execution_count": null,
   "metadata": {
    "id": "d7ySzBXMKfTU"
   },
   "outputs": [],
   "source": [
    "obese = obese.dropna()"
   ]
  },
  {
   "cell_type": "code",
   "execution_count": null,
   "metadata": {
    "id": "JIJ3Vw6aKfTX"
   },
   "outputs": [],
   "source": [
    "recovered =(df['Recovered']*df['Population'])"
   ]
  },
  {
   "cell_type": "code",
   "execution_count": null,
   "metadata": {
    "id": "3lpL7uGDKfTZ"
   },
   "outputs": [],
   "source": [
    "deaths = df['Deaths']*df['Population']"
   ]
  },
  {
   "cell_type": "code",
   "execution_count": null,
   "metadata": {
    "id": "iQx5c45wkEMd"
   },
   "outputs": [],
   "source": [
    "confirmed = df['Confirmed']*df['Population']"
   ]
  },
  {
   "cell_type": "code",
   "execution_count": null,
   "metadata": {
    "id": "ox4xnYt_KfTg"
   },
   "outputs": [],
   "source": [
    "data = {'Obese':obese, 'Recovered':recovered, 'Deaths':deaths, 'UnderNouurished':under, 'conf': confirmed}"
   ]
  },
  {
   "cell_type": "code",
   "execution_count": null,
   "metadata": {
    "id": "w0y5ZUatKfTg"
   },
   "outputs": [],
   "source": [
    "odf = pd.DataFrame(data)"
   ]
  },
  {
   "cell_type": "code",
   "execution_count": null,
   "metadata": {
    "colab": {
     "base_uri": "https://localhost:8080/",
     "height": 206
    },
    "id": "MOR4iHaSKfTh",
    "outputId": "7cc0d04f-f2c0-4450-9eb0-03041d247d2b"
   },
   "outputs": [],
   "source": [
    "odf.head()"
   ]
  },
  {
   "cell_type": "code",
   "execution_count": null,
   "metadata": {
    "id": "tmXTaJVFKfTh"
   },
   "outputs": [],
   "source": [
    "odf['Obese'] = odf['Obese'].astype('object')\n",
    "odf['Recovered'] = odf['Recovered'].astype('object')\n",
    "odf['Deaths'] = odf['Deaths'].astype('object')"
   ]
  },
  {
   "cell_type": "code",
   "execution_count": null,
   "metadata": {
    "colab": {
     "base_uri": "https://localhost:8080/"
    },
    "id": "m2MJHsjoKfTi",
    "outputId": "cd935ab3-a18b-4269-89c6-6f16bc0b8e8f"
   },
   "outputs": [],
   "source": [
    "odf.dtypes"
   ]
  },
  {
   "cell_type": "code",
   "execution_count": null,
   "metadata": {
    "id": "uVGxqBSjKfTk"
   },
   "outputs": [],
   "source": [
    "low_obese = odf[odf['Obese']<18.0]\n",
    "mid_obese = odf[(odf['Obese']>18.0) & (odf['Obese']<35.0)]\n",
    "high_obese = odf[odf['Obese']>35.0]"
   ]
  },
  {
   "cell_type": "code",
   "execution_count": null,
   "metadata": {
    "id": "BfqEAWbCKfTk"
   },
   "outputs": [],
   "source": [
    "low_obese = odf[odf['Obese']<20.0]\n",
    "high_obese = odf[odf['Obese']>=20.0]"
   ]
  },
  {
   "cell_type": "code",
   "execution_count": null,
   "metadata": {
    "colab": {
     "base_uri": "https://localhost:8080/"
    },
    "id": "iyLuAHnGdGqT",
    "outputId": "b7263edb-89cf-4f85-dcbf-a60c282cd07e"
   },
   "outputs": [],
   "source": [
    "st.ttest_ind(low_obese['Deaths'], high_obese['Deaths'], equal_var = False)"
   ]
  },
  {
   "cell_type": "code",
   "execution_count": null,
   "metadata": {
    "colab": {
     "base_uri": "https://localhost:8080/"
    },
    "id": "WFlD49JACTNc",
    "outputId": "7f0942ba-18bf-4789-8517-a2a277b6cecf"
   },
   "outputs": [],
   "source": [
    "st.ttest_ind(low_obese['Recovered'], high_obese['Recovered'], equal_var = False)"
   ]
  },
  {
   "cell_type": "code",
   "execution_count": null,
   "metadata": {
    "colab": {
     "base_uri": "https://localhost:8080/"
    },
    "id": "VbnKOU-xlD43",
    "outputId": "c926a2ab-a421-49fa-98da-c93d59e2cc28"
   },
   "outputs": [],
   "source": [
    "st.ttest_ind(low_obese['conf'], high_obese['conf'], equal_var = False)"
   ]
  },
  {
   "cell_type": "code",
   "execution_count": null,
   "metadata": {
    "id": "NY5Pl2t9MgRq"
   },
   "outputs": [],
   "source": [
    "st.ttest_ind(low_nourish['Recovered'])"
   ]
  },
  {
   "cell_type": "code",
   "execution_count": null,
   "metadata": {
    "colab": {
     "base_uri": "https://localhost:8080/",
     "height": 261
    },
    "id": "N8PM1FVWKfTq",
    "outputId": "1639502f-04e1-40b5-8090-d303bfd8915d"
   },
   "outputs": [],
   "source": [
    "df.head()"
   ]
  },
  {
   "cell_type": "code",
   "execution_count": null,
   "metadata": {
    "id": "OB5mZJdeX6z5"
   },
   "outputs": [],
   "source": [
    "df = df.drop('Unit (all except Population)',axis=1)"
   ]
  },
  {
   "cell_type": "markdown",
   "metadata": {
    "id": "GA6kWaoHZIWw"
   },
   "source": [
    "### **Performing Sperman's correlation test**"
   ]
  },
  {
   "cell_type": "markdown",
   "metadata": {
    "id": "o7_EhwU2Zt8U"
   },
   "source": [
    "1. Correlation between diet variables and Obesity."
   ]
  },
  {
   "cell_type": "code",
   "execution_count": null,
   "metadata": {
    "colab": {
     "base_uri": "https://localhost:8080/"
    },
    "id": "VPOt27oZZtOy",
    "outputId": "9a74d03f-a8e2-44c3-bc4f-a6e3e74b9339"
   },
   "outputs": [],
   "source": [
    "df.columns"
   ]
  },
  {
   "cell_type": "code",
   "execution_count": null,
   "metadata": {
    "id": "P33mvSacYLU-"
   },
   "outputs": [],
   "source": [
    "corr_df = df.drop(['Country','Active','Undernourished', 'Confirmed', 'Deaths',\n",
    "       'Recovered', 'Population'],axis=1)"
   ]
  },
  {
   "cell_type": "code",
   "execution_count": null,
   "metadata": {
    "colab": {
     "base_uri": "https://localhost:8080/"
    },
    "id": "FRePJ7u5erHl",
    "outputId": "b1d7df13-b111-4a85-f4f1-01dcab54c10d"
   },
   "outputs": [],
   "source": [
    "corr_df.columns"
   ]
  },
  {
   "cell_type": "code",
   "execution_count": null,
   "metadata": {
    "id": "EV8vmInHetyU"
   },
   "outputs": [],
   "source": [
    "#function to find the correlation\n",
    "def display_correlation(df):\n",
    "    r = df.corr(method=\"spearman\") #spearman's correlation call\n",
    "    plt.figure(figsize=(15,12))\n",
    "    heatmap = sns.heatmap(df.corr(), vmin=-1, \n",
    "                      vmax=1, annot=True)\n",
    "    plt.title(\"Spearman Correlation\")\n",
    "    return(r)"
   ]
  },
  {
   "cell_type": "code",
   "execution_count": null,
   "metadata": {
    "colab": {
     "base_uri": "https://localhost:8080/",
     "height": 828
    },
    "id": "KyUZAjRYgQcp",
    "outputId": "4360209a-de6a-468b-cf10-58368ef6de95"
   },
   "outputs": [],
   "source": [
    "#calling the function display_correlation\n",
    "r_simple=display_correlation(corr_df) "
   ]
  },
  {
   "cell_type": "code",
   "execution_count": null,
   "metadata": {
    "colab": {
     "base_uri": "https://localhost:8080/",
     "height": 368
    },
    "id": "FwhYnuja2slo",
    "outputId": "f4ae1190-b0a7-4633-e288-b708cb40dc47"
   },
   "outputs": [],
   "source": [
    "alt.Chart(corr_df).mark_point().encode(\n",
    "    x = 'Obesity',\n",
    "    y = 'Vegetal Products'\n",
    ")"
   ]
  },
  {
   "cell_type": "code",
   "execution_count": null,
   "metadata": {
    "colab": {
     "base_uri": "https://localhost:8080/",
     "height": 290
    },
    "id": "3Wpo_dL_kmfw",
    "outputId": "133019a9-b7f0-4fcc-fa68-43b47d82b347"
   },
   "outputs": [],
   "source": [
    "\n",
    "\n",
    "alt.Chart(corr_df).mark_point().encode(\n",
    "    alt.X(alt.repeat(\"column\"), type='quantitative'),\n",
    "    alt.Y(alt.repeat(\"row\"), type='quantitative'),\n",
    "    #color='species:N'\n",
    ").properties(\n",
    "    width=200,\n",
    "    height=200\n",
    ").repeat(\n",
    "    row=['Obesity'],\n",
    "    column=['Vegetal Products', 'Sugar & Sweeteners','Starchy Roots', 'Animal fats', 'Animal Products',\n",
    "       'Eggs', 'Meat',\n",
    "       'Milk - Excluding Butter',\n",
    "       'Pulses']\n",
    ")"
   ]
  },
  {
   "cell_type": "markdown",
   "metadata": {
    "id": "ME1cjzmNSYGB"
   },
   "source": [
    "observations\n",
    "\n",
    "\n",
    "*   Higher proportions of Sugar & Sweetener, Animal fats, Animal products, Eggs, Meat and Milk-excluding butter in the diet is increasingly found in countries with high obesity rates.\n",
    "*   High proportions of Pulses, Starchy roots, Cereals and Vegetable products are found in the diets of countries with low obesity rates.\n",
    "\n",
    "\n",
    "\n",
    "    \n",
    "    \n",
    "\n"
   ]
  },
  {
   "cell_type": "markdown",
   "metadata": {
    "id": "YMZvjvFyhLB8"
   },
   "source": [
    "Observation: attributes that are correlated to the attribute 'Obesity' are Vegetable Products, Sugar&Sweetners, Starchy Roots, Pulses, Milk-excluding butter, Meat, Eggs, Animal Products, Animal Fats."
   ]
  },
  {
   "cell_type": "markdown",
   "metadata": {
    "id": "Qzw3YL1oNkVh"
   },
   "source": [
    "Obs: positvely correlated - Sugar & Sweetener, Animal fats, Animal products, Eggs, Meat, Milk-excluding butter."
   ]
  },
  {
   "cell_type": "markdown",
   "metadata": {
    "id": "uuS_FapAOv0r"
   },
   "source": [
    "Obs: negatively correlated- Pulses, Starchy roots, Cereals, Vegetable products.\n",
    "\n",
    "---\n",
    "\n"
   ]
  },
  {
   "cell_type": "markdown",
   "metadata": {
    "id": "0vSSV_WLygwx"
   },
   "source": [
    "2. Correlation between diet variables and 'Undernourished'"
   ]
  },
  {
   "cell_type": "code",
   "execution_count": null,
   "metadata": {
    "id": "KvOJ5Ixkga08"
   },
   "outputs": [],
   "source": [
    "df['Undernourished'] = df['Undernourished'].map(lambda x: '2.4' if x == '<2.5' else x).astype('float64')"
   ]
  },
  {
   "cell_type": "code",
   "execution_count": null,
   "metadata": {
    "id": "6vJEzFixvhmU"
   },
   "outputs": [],
   "source": [
    "new_df = df.drop(['Country','Active','Obesity', 'Confirmed', 'Deaths',\n",
    "       'Recovered', 'Population'],axis=1)"
   ]
  },
  {
   "cell_type": "code",
   "execution_count": null,
   "metadata": {
    "colab": {
     "base_uri": "https://localhost:8080/"
    },
    "id": "oTRYk9BYvyse",
    "outputId": "5c2ccc59-8650-4da1-839a-e01d6a89cabc"
   },
   "outputs": [],
   "source": [
    "new_df.columns"
   ]
  },
  {
   "cell_type": "code",
   "execution_count": null,
   "metadata": {
    "colab": {
     "base_uri": "https://localhost:8080/",
     "height": 828
    },
    "id": "oWXta54cv0hn",
    "outputId": "a209937d-3eba-4285-dbe6-e4115d3f2bee"
   },
   "outputs": [],
   "source": [
    "nourish = display_correlation(new_df)"
   ]
  },
  {
   "cell_type": "markdown",
   "metadata": {
    "id": "0js7Z9lVwsqf"
   },
   "source": [
    "Observation: The variables that are highly correlated with 'Undernourished' are Vegetable products, Vegetables, Starchy Roots, Pulses, Milk-excluding butter, Meat, Eggs, Cereals, Animal Products, Animal Fats"
   ]
  },
  {
   "cell_type": "markdown",
   "metadata": {
    "id": "a5m3hs6RP7CZ"
   },
   "source": [
    "-vely correlated : Vegetables, Milk - Excluding beer, Meat, Eggs, Animal Products, Animal fats"
   ]
  },
  {
   "cell_type": "markdown",
   "metadata": {
    "id": "NQdF0aUDQN1P"
   },
   "source": [
    "+vely correlated: Vegetable Products, Starchy Roots, Pulses, Cereals."
   ]
  },
  {
   "cell_type": "code",
   "execution_count": null,
   "metadata": {
    "colab": {
     "base_uri": "https://localhost:8080/",
     "height": 290
    },
    "id": "QJwfEMKKsIhW",
    "outputId": "1f39306c-0af8-4a06-f643-8ef60a68a90c"
   },
   "outputs": [],
   "source": [
    "alt.Chart(new_df).mark_point().encode(\n",
    "    alt.X(alt.repeat(\"column\"), type='quantitative'),\n",
    "    alt.Y(alt.repeat(\"row\"), type='quantitative'),\n",
    "    color=alt.value('red')\n",
    ").properties(\n",
    "    width=200,\n",
    "    height=200\n",
    ").repeat(\n",
    "    row=['Undernourished'],\n",
    "    column=['Vegetal Products','Fruits - Excluding Wine','Starchy Roots', 'Animal fats', 'Animal Products',\n",
    "       'Eggs', 'Meat',\n",
    "       'Milk - Excluding Butter',\n",
    "       'Pulses']\n",
    ")"
   ]
  },
  {
   "cell_type": "markdown",
   "metadata": {
    "id": "GodrrnstRL5m"
   },
   "source": [
    "observations\n",
    "\n",
    "\n",
    "*   Higher proportions of Vegetal products, pulses and cereals in the diet is increasingly found in countries with high undernourishment.\n",
    "*   High proportions of Fruits, Animal fats, Animal products, eggs,meat and milk are found in the diets of countries with low undernourishment.\n",
    "\n"
   ]
  },
  {
   "cell_type": "markdown",
   "metadata": {
    "id": "qJegnC3Azpr0"
   },
   "source": [
    "## 2. Linear Regression"
   ]
  },
  {
   "cell_type": "code",
   "execution_count": null,
   "metadata": {
    "id": "tWekxL6Ju10O"
   },
   "outputs": [],
   "source": [
    "#separate the other attributes from the predicting attribute\n",
    "x = corr_df.drop('Obesity',axis=1)\n",
    "#separte the predicting attribute into Y for model training \n",
    "y = corr_df['Obesity']"
   ]
  },
  {
   "cell_type": "code",
   "execution_count": null,
   "metadata": {
    "colab": {
     "base_uri": "https://localhost:8080/"
    },
    "id": "882vJELK0H7k",
    "outputId": "2b1200fb-c7c8-439e-e32c-2b3f73cc267c"
   },
   "outputs": [],
   "source": [
    "# importing module\n",
    "from sklearn.linear_model import LinearRegression\n",
    "# creating an object of LinearRegression class\n",
    "LR = LinearRegression()\n",
    "# fitting the training data\n",
    "LR.fit(x,y)"
   ]
  },
  {
   "cell_type": "code",
   "execution_count": null,
   "metadata": {
    "id": "q9XkR84r0W__"
   },
   "outputs": [],
   "source": []
  }
 ],
 "metadata": {
  "colab": {
   "include_colab_link": true,
   "name": "aitteam.ipynb",
   "provenance": []
  },
  "kernelspec": {
   "display_name": "Python 3",
   "language": "python",
   "name": "python3"
  },
  "language_info": {
   "codemirror_mode": {
    "name": "ipython",
    "version": 3
   },
   "file_extension": ".py",
   "mimetype": "text/x-python",
   "name": "python",
   "nbconvert_exporter": "python",
   "pygments_lexer": "ipython3",
   "version": "3.8.3"
  }
 },
 "nbformat": 4,
 "nbformat_minor": 1
}
